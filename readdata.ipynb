{
 "cells": [
  {
   "cell_type": "code",
   "execution_count": 5,
   "metadata": {},
   "outputs": [],
   "source": [
    "import numpy as np\n",
    "import pandas as pd"
   ]
  },
  {
   "cell_type": "code",
   "execution_count": 6,
   "metadata": {},
   "outputs": [],
   "source": [
    "df = pd.read_csv(\"data/material.csv\")\n",
    "wavelengths = df['Wvl.'].to_numpy()\n",
    "greenwall = df['Refl. %'].to_numpy()\n",
    "whitewall = df['Refl. %.1'].to_numpy()\n",
    "redwall = df['Refl. %.2'].to_numpy()\n",
    "greycube = df['Refl. %.4'].to_numpy()\n",
    "browncube = df['Refl. %.5'].to_numpy()\n",
    "yellowcube = df['Refl. %.6'].to_numpy()"
   ]
  },
  {
   "cell_type": "code",
   "execution_count": 7,
   "metadata": {},
   "outputs": [],
   "source": [
    "df = pd.read_csv(\"data/light.csv\")\n",
    "light = df['Ref. Rad. [μW/cm^2/sr/nm]'].to_numpy()"
   ]
  }
 ],
 "metadata": {
  "kernelspec": {
   "display_name": "Python 3",
   "language": "python",
   "name": "python3"
  },
  "language_info": {
   "codemirror_mode": {
    "name": "ipython",
    "version": 3
   },
   "file_extension": ".py",
   "mimetype": "text/x-python",
   "name": "python",
   "nbconvert_exporter": "python",
   "pygments_lexer": "ipython3",
   "version": "3.10.12"
  }
 },
 "nbformat": 4,
 "nbformat_minor": 2
}
